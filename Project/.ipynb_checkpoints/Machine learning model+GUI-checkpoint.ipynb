{
 "cells": [
  {
   "cell_type": "markdown",
   "metadata": {},
   "source": [
    "## Working on Train data set"
   ]
  },
  {
   "cell_type": "markdown",
   "metadata": {},
   "source": [
    "### Importing Packages"
   ]
  },
  {
   "cell_type": "code",
   "execution_count": 1,
   "metadata": {},
   "outputs": [],
   "source": [
    "import pandas as pd                # importing pandas as pd\n",
    "import numpy as np                 # importing numpy as np    \n",
    "import matplotlib.pyplot as plt    #importing matplotlib as plt\n",
    "import seaborn as sns              #importing seaborn as sns\n",
    "%matplotlib inline\n",
    "from datetime import date\n",
    "from datetime import time\n",
    "import tkinter as tk\n",
    "from tkinter import ttk\n",
    "import pickle\n",
    "import joblib\n",
    "import numpy as np\n",
    "import seaborn as sns\n",
    "from sklearn.utils import shuffle\n",
    "from sklearn.linear_model import LogisticRegression"
   ]
  },
  {
   "cell_type": "markdown",
   "metadata": {},
   "source": [
    "#### Reading Trained data set"
   ]
  },
  {
   "cell_type": "code",
   "execution_count": 2,
   "metadata": {},
   "outputs": [],
   "source": [
    "car_data=pd.read_csv('cardata.csv',index_col=0)"
   ]
  },
  {
   "cell_type": "code",
   "execution_count": 3,
   "metadata": {},
   "outputs": [
    {
     "data": {
      "text/html": [
       "<div>\n",
       "<style scoped>\n",
       "    .dataframe tbody tr th:only-of-type {\n",
       "        vertical-align: middle;\n",
       "    }\n",
       "\n",
       "    .dataframe tbody tr th {\n",
       "        vertical-align: top;\n",
       "    }\n",
       "\n",
       "    .dataframe thead th {\n",
       "        text-align: right;\n",
       "    }\n",
       "</style>\n",
       "<table border=\"1\" class=\"dataframe\">\n",
       "  <thead>\n",
       "    <tr style=\"text-align: right;\">\n",
       "      <th></th>\n",
       "      <th>Year</th>\n",
       "      <th>Kilometers_Driven</th>\n",
       "      <th>Fuel_Type</th>\n",
       "      <th>Transmission</th>\n",
       "      <th>Owner_Type</th>\n",
       "      <th>Mileage</th>\n",
       "      <th>Engine_CC</th>\n",
       "      <th>Power_bhp</th>\n",
       "      <th>Seats</th>\n",
       "      <th>Price_Lakh</th>\n",
       "      <th>Manufacturer</th>\n",
       "    </tr>\n",
       "  </thead>\n",
       "  <tbody>\n",
       "    <tr>\n",
       "      <th>0</th>\n",
       "      <td>10</td>\n",
       "      <td>72000</td>\n",
       "      <td>CNG</td>\n",
       "      <td>Manual</td>\n",
       "      <td>First</td>\n",
       "      <td>26.60</td>\n",
       "      <td>998.0</td>\n",
       "      <td>58.16</td>\n",
       "      <td>5.0</td>\n",
       "      <td>1.75</td>\n",
       "      <td>Maruti</td>\n",
       "    </tr>\n",
       "    <tr>\n",
       "      <th>1</th>\n",
       "      <td>5</td>\n",
       "      <td>41000</td>\n",
       "      <td>Diesel</td>\n",
       "      <td>Manual</td>\n",
       "      <td>First</td>\n",
       "      <td>19.67</td>\n",
       "      <td>1582.0</td>\n",
       "      <td>126.20</td>\n",
       "      <td>5.0</td>\n",
       "      <td>12.50</td>\n",
       "      <td>Hyundai</td>\n",
       "    </tr>\n",
       "    <tr>\n",
       "      <th>2</th>\n",
       "      <td>9</td>\n",
       "      <td>46000</td>\n",
       "      <td>Petrol</td>\n",
       "      <td>Manual</td>\n",
       "      <td>First</td>\n",
       "      <td>18.20</td>\n",
       "      <td>1199.0</td>\n",
       "      <td>88.70</td>\n",
       "      <td>5.0</td>\n",
       "      <td>4.50</td>\n",
       "      <td>Honda</td>\n",
       "    </tr>\n",
       "    <tr>\n",
       "      <th>3</th>\n",
       "      <td>8</td>\n",
       "      <td>87000</td>\n",
       "      <td>Diesel</td>\n",
       "      <td>Manual</td>\n",
       "      <td>First</td>\n",
       "      <td>20.77</td>\n",
       "      <td>1248.0</td>\n",
       "      <td>88.76</td>\n",
       "      <td>7.0</td>\n",
       "      <td>6.00</td>\n",
       "      <td>Maruti</td>\n",
       "    </tr>\n",
       "    <tr>\n",
       "      <th>4</th>\n",
       "      <td>7</td>\n",
       "      <td>40670</td>\n",
       "      <td>Diesel</td>\n",
       "      <td>Automatic</td>\n",
       "      <td>Second</td>\n",
       "      <td>15.20</td>\n",
       "      <td>1968.0</td>\n",
       "      <td>140.80</td>\n",
       "      <td>5.0</td>\n",
       "      <td>17.74</td>\n",
       "      <td>Audi</td>\n",
       "    </tr>\n",
       "  </tbody>\n",
       "</table>\n",
       "</div>"
      ],
      "text/plain": [
       "   Year  Kilometers_Driven Fuel_Type Transmission Owner_Type  Mileage  \\\n",
       "0    10              72000       CNG       Manual      First    26.60   \n",
       "1     5              41000    Diesel       Manual      First    19.67   \n",
       "2     9              46000    Petrol       Manual      First    18.20   \n",
       "3     8              87000    Diesel       Manual      First    20.77   \n",
       "4     7              40670    Diesel    Automatic     Second    15.20   \n",
       "\n",
       "   Engine_CC  Power_bhp  Seats  Price_Lakh Manufacturer  \n",
       "0      998.0      58.16    5.0        1.75       Maruti  \n",
       "1     1582.0     126.20    5.0       12.50      Hyundai  \n",
       "2     1199.0      88.70    5.0        4.50        Honda  \n",
       "3     1248.0      88.76    7.0        6.00       Maruti  \n",
       "4     1968.0     140.80    5.0       17.74         Audi  "
      ]
     },
     "execution_count": 3,
     "metadata": {},
     "output_type": "execute_result"
    }
   ],
   "source": [
    "#Understanding Trained data\n",
    "car_data.head()"
   ]
  },
  {
   "cell_type": "code",
   "execution_count": 4,
   "metadata": {},
   "outputs": [
    {
     "data": {
      "text/plain": [
       "Index(['Year', 'Kilometers_Driven', 'Fuel_Type', 'Transmission', 'Owner_Type',\n",
       "       'Mileage', 'Engine_CC', 'Power_bhp', 'Seats', 'Price_Lakh',\n",
       "       'Manufacturer'],\n",
       "      dtype='object')"
      ]
     },
     "execution_count": 4,
     "metadata": {},
     "output_type": "execute_result"
    }
   ],
   "source": [
    "car_data.columns"
   ]
  },
  {
   "cell_type": "code",
   "execution_count": 4,
   "metadata": {},
   "outputs": [],
   "source": [
    "car_data.drop_duplicates(inplace=True)"
   ]
  },
  {
   "cell_type": "code",
   "execution_count": 5,
   "metadata": {},
   "outputs": [],
   "source": [
    "car_data.dropna(axis=0,how='all',inplace=True)"
   ]
  },
  {
   "cell_type": "code",
   "execution_count": 6,
   "metadata": {},
   "outputs": [
    {
     "name": "stdout",
     "output_type": "stream",
     "text": [
      "(6017, 11)\n"
     ]
    },
    {
     "data": {
      "text/html": [
       "<div>\n",
       "<style scoped>\n",
       "    .dataframe tbody tr th:only-of-type {\n",
       "        vertical-align: middle;\n",
       "    }\n",
       "\n",
       "    .dataframe tbody tr th {\n",
       "        vertical-align: top;\n",
       "    }\n",
       "\n",
       "    .dataframe thead th {\n",
       "        text-align: right;\n",
       "    }\n",
       "</style>\n",
       "<table border=\"1\" class=\"dataframe\">\n",
       "  <thead>\n",
       "    <tr style=\"text-align: right;\">\n",
       "      <th></th>\n",
       "      <th>Year</th>\n",
       "      <th>Kilometers_Driven</th>\n",
       "      <th>Fuel_Type</th>\n",
       "      <th>Transmission</th>\n",
       "      <th>Owner_Type</th>\n",
       "      <th>Mileage</th>\n",
       "      <th>Engine_CC</th>\n",
       "      <th>Power_bhp</th>\n",
       "      <th>Seats</th>\n",
       "      <th>Price_Lakh</th>\n",
       "      <th>Manufacturer</th>\n",
       "    </tr>\n",
       "  </thead>\n",
       "  <tbody>\n",
       "    <tr>\n",
       "      <th>0</th>\n",
       "      <td>10</td>\n",
       "      <td>72000</td>\n",
       "      <td>CNG</td>\n",
       "      <td>Manual</td>\n",
       "      <td>First</td>\n",
       "      <td>26.60</td>\n",
       "      <td>998.0</td>\n",
       "      <td>58.16</td>\n",
       "      <td>5.0</td>\n",
       "      <td>1.75</td>\n",
       "      <td>Maruti</td>\n",
       "    </tr>\n",
       "    <tr>\n",
       "      <th>1</th>\n",
       "      <td>5</td>\n",
       "      <td>41000</td>\n",
       "      <td>Diesel</td>\n",
       "      <td>Manual</td>\n",
       "      <td>First</td>\n",
       "      <td>19.67</td>\n",
       "      <td>1582.0</td>\n",
       "      <td>126.20</td>\n",
       "      <td>5.0</td>\n",
       "      <td>12.50</td>\n",
       "      <td>Hyundai</td>\n",
       "    </tr>\n",
       "    <tr>\n",
       "      <th>2</th>\n",
       "      <td>9</td>\n",
       "      <td>46000</td>\n",
       "      <td>Petrol</td>\n",
       "      <td>Manual</td>\n",
       "      <td>First</td>\n",
       "      <td>18.20</td>\n",
       "      <td>1199.0</td>\n",
       "      <td>88.70</td>\n",
       "      <td>5.0</td>\n",
       "      <td>4.50</td>\n",
       "      <td>Honda</td>\n",
       "    </tr>\n",
       "    <tr>\n",
       "      <th>3</th>\n",
       "      <td>8</td>\n",
       "      <td>87000</td>\n",
       "      <td>Diesel</td>\n",
       "      <td>Manual</td>\n",
       "      <td>First</td>\n",
       "      <td>20.77</td>\n",
       "      <td>1248.0</td>\n",
       "      <td>88.76</td>\n",
       "      <td>7.0</td>\n",
       "      <td>6.00</td>\n",
       "      <td>Maruti</td>\n",
       "    </tr>\n",
       "    <tr>\n",
       "      <th>4</th>\n",
       "      <td>7</td>\n",
       "      <td>40670</td>\n",
       "      <td>Diesel</td>\n",
       "      <td>Automatic</td>\n",
       "      <td>Second</td>\n",
       "      <td>15.20</td>\n",
       "      <td>1968.0</td>\n",
       "      <td>140.80</td>\n",
       "      <td>5.0</td>\n",
       "      <td>17.74</td>\n",
       "      <td>Audi</td>\n",
       "    </tr>\n",
       "  </tbody>\n",
       "</table>\n",
       "</div>"
      ],
      "text/plain": [
       "   Year  Kilometers_Driven Fuel_Type Transmission Owner_Type  Mileage  \\\n",
       "0    10              72000       CNG       Manual      First    26.60   \n",
       "1     5              41000    Diesel       Manual      First    19.67   \n",
       "2     9              46000    Petrol       Manual      First    18.20   \n",
       "3     8              87000    Diesel       Manual      First    20.77   \n",
       "4     7              40670    Diesel    Automatic     Second    15.20   \n",
       "\n",
       "   Engine_CC  Power_bhp  Seats  Price_Lakh Manufacturer  \n",
       "0      998.0      58.16    5.0        1.75       Maruti  \n",
       "1     1582.0     126.20    5.0       12.50      Hyundai  \n",
       "2     1199.0      88.70    5.0        4.50        Honda  \n",
       "3     1248.0      88.76    7.0        6.00       Maruti  \n",
       "4     1968.0     140.80    5.0       17.74         Audi  "
      ]
     },
     "execution_count": 6,
     "metadata": {},
     "output_type": "execute_result"
    }
   ],
   "source": [
    "print(car_data.shape)\n",
    "car_data.head(5)"
   ]
  },
  {
   "cell_type": "code",
   "execution_count": 7,
   "metadata": {},
   "outputs": [
    {
     "data": {
      "text/plain": [
       "Index(['Age_of_Car', 'Odometer_Reading', 'Fuel_Type', 'Transmission_Type',\n",
       "       'Owner_Type', 'Mileage_in_kmpl', 'Engine_in_cc', 'Power_in_bhp',\n",
       "       'Number_of_seats', 'Price_Lakh', 'Manufacturer'],\n",
       "      dtype='object')"
      ]
     },
     "execution_count": 7,
     "metadata": {},
     "output_type": "execute_result"
    }
   ],
   "source": [
    "# Renaming column name for better understanding\n",
    "car_data.rename(columns={'Year':'Age_of_Car',  \n",
    "                             'Kilometers_Driven':'Odometer_Reading',\n",
    "                             'Transmission':'Transmission_Type',\n",
    "                             'Mileage':'Mileage_in_kmpl',\n",
    "                             'Engine_CC':'Engine_in_cc',\n",
    "                             'Power_bhp':'Power_in_bhp',\n",
    "                             'Seats':'Number_of_seats'},                         \n",
    "                   inplace=True)\n",
    "car_data.columns"
   ]
  },
  {
   "cell_type": "code",
   "execution_count": 9,
   "metadata": {},
   "outputs": [
    {
     "name": "stdout",
     "output_type": "stream",
     "text": [
      "<class 'pandas.core.frame.DataFrame'>\n",
      "Int64Index: 6017 entries, 0 to 6018\n",
      "Data columns (total 11 columns):\n",
      " #   Column             Non-Null Count  Dtype  \n",
      "---  ------             --------------  -----  \n",
      " 0   Age_of_Car         6017 non-null   int64  \n",
      " 1   Odometer_Reading   6017 non-null   int64  \n",
      " 2   Fuel_Type          6017 non-null   object \n",
      " 3   Transmission_Type  6017 non-null   object \n",
      " 4   Owner_Type         6017 non-null   object \n",
      " 5   Mileage_in_kmpl    6017 non-null   float64\n",
      " 6   Engine_in_cc       6017 non-null   float64\n",
      " 7   Power_in_bhp       6017 non-null   float64\n",
      " 8   Number_of_seats    6017 non-null   float64\n",
      " 9   Price_Lakh         6017 non-null   float64\n",
      " 10  Manufacturer       6017 non-null   object \n",
      "dtypes: float64(5), int64(2), object(4)\n",
      "memory usage: 564.1+ KB\n"
     ]
    }
   ],
   "source": [
    "#Creating duplicate of car_data\n",
    "car_data_dup=car_data\n",
    "car_data_dup.info()"
   ]
  },
  {
   "cell_type": "markdown",
   "metadata": {},
   "source": [
    "### Converting categorical data into dummy data"
   ]
  },
  {
   "cell_type": "code",
   "execution_count": 10,
   "metadata": {},
   "outputs": [
    {
     "data": {
      "text/html": [
       "<div>\n",
       "<style scoped>\n",
       "    .dataframe tbody tr th:only-of-type {\n",
       "        vertical-align: middle;\n",
       "    }\n",
       "\n",
       "    .dataframe tbody tr th {\n",
       "        vertical-align: top;\n",
       "    }\n",
       "\n",
       "    .dataframe thead th {\n",
       "        text-align: right;\n",
       "    }\n",
       "</style>\n",
       "<table border=\"1\" class=\"dataframe\">\n",
       "  <thead>\n",
       "    <tr style=\"text-align: right;\">\n",
       "      <th></th>\n",
       "      <th>Age_of_Car</th>\n",
       "      <th>Odometer_Reading</th>\n",
       "      <th>Fuel_Type</th>\n",
       "      <th>Transmission_Type</th>\n",
       "      <th>Owner_Type</th>\n",
       "      <th>Mileage_in_kmpl</th>\n",
       "      <th>Engine_in_cc</th>\n",
       "      <th>Power_in_bhp</th>\n",
       "      <th>Number_of_seats</th>\n",
       "      <th>Price_Lakh</th>\n",
       "      <th>Manufacturer</th>\n",
       "      <th>Manufacturer_id</th>\n",
       "      <th>Fuel_Type_id</th>\n",
       "      <th>Transmission_id</th>\n",
       "      <th>Owner_Type_id</th>\n",
       "    </tr>\n",
       "  </thead>\n",
       "  <tbody>\n",
       "    <tr>\n",
       "      <th>0</th>\n",
       "      <td>10</td>\n",
       "      <td>72000</td>\n",
       "      <td>CNG</td>\n",
       "      <td>Manual</td>\n",
       "      <td>First</td>\n",
       "      <td>26.60</td>\n",
       "      <td>998.0</td>\n",
       "      <td>58.16</td>\n",
       "      <td>5.0</td>\n",
       "      <td>1.75</td>\n",
       "      <td>Maruti</td>\n",
       "      <td>18</td>\n",
       "      <td>0</td>\n",
       "      <td>1</td>\n",
       "      <td>0</td>\n",
       "    </tr>\n",
       "    <tr>\n",
       "      <th>1</th>\n",
       "      <td>5</td>\n",
       "      <td>41000</td>\n",
       "      <td>Diesel</td>\n",
       "      <td>Manual</td>\n",
       "      <td>First</td>\n",
       "      <td>19.67</td>\n",
       "      <td>1582.0</td>\n",
       "      <td>126.20</td>\n",
       "      <td>5.0</td>\n",
       "      <td>12.50</td>\n",
       "      <td>Hyundai</td>\n",
       "      <td>10</td>\n",
       "      <td>1</td>\n",
       "      <td>1</td>\n",
       "      <td>0</td>\n",
       "    </tr>\n",
       "    <tr>\n",
       "      <th>2</th>\n",
       "      <td>9</td>\n",
       "      <td>46000</td>\n",
       "      <td>Petrol</td>\n",
       "      <td>Manual</td>\n",
       "      <td>First</td>\n",
       "      <td>18.20</td>\n",
       "      <td>1199.0</td>\n",
       "      <td>88.70</td>\n",
       "      <td>5.0</td>\n",
       "      <td>4.50</td>\n",
       "      <td>Honda</td>\n",
       "      <td>9</td>\n",
       "      <td>4</td>\n",
       "      <td>1</td>\n",
       "      <td>0</td>\n",
       "    </tr>\n",
       "    <tr>\n",
       "      <th>3</th>\n",
       "      <td>8</td>\n",
       "      <td>87000</td>\n",
       "      <td>Diesel</td>\n",
       "      <td>Manual</td>\n",
       "      <td>First</td>\n",
       "      <td>20.77</td>\n",
       "      <td>1248.0</td>\n",
       "      <td>88.76</td>\n",
       "      <td>7.0</td>\n",
       "      <td>6.00</td>\n",
       "      <td>Maruti</td>\n",
       "      <td>18</td>\n",
       "      <td>1</td>\n",
       "      <td>1</td>\n",
       "      <td>0</td>\n",
       "    </tr>\n",
       "    <tr>\n",
       "      <th>4</th>\n",
       "      <td>7</td>\n",
       "      <td>40670</td>\n",
       "      <td>Diesel</td>\n",
       "      <td>Automatic</td>\n",
       "      <td>Second</td>\n",
       "      <td>15.20</td>\n",
       "      <td>1968.0</td>\n",
       "      <td>140.80</td>\n",
       "      <td>5.0</td>\n",
       "      <td>17.74</td>\n",
       "      <td>Audi</td>\n",
       "      <td>1</td>\n",
       "      <td>1</td>\n",
       "      <td>0</td>\n",
       "      <td>2</td>\n",
       "    </tr>\n",
       "  </tbody>\n",
       "</table>\n",
       "</div>"
      ],
      "text/plain": [
       "   Age_of_Car  Odometer_Reading Fuel_Type Transmission_Type Owner_Type  \\\n",
       "0          10             72000       CNG            Manual      First   \n",
       "1           5             41000    Diesel            Manual      First   \n",
       "2           9             46000    Petrol            Manual      First   \n",
       "3           8             87000    Diesel            Manual      First   \n",
       "4           7             40670    Diesel         Automatic     Second   \n",
       "\n",
       "   Mileage_in_kmpl  Engine_in_cc  Power_in_bhp  Number_of_seats  Price_Lakh  \\\n",
       "0            26.60         998.0         58.16              5.0        1.75   \n",
       "1            19.67        1582.0        126.20              5.0       12.50   \n",
       "2            18.20        1199.0         88.70              5.0        4.50   \n",
       "3            20.77        1248.0         88.76              7.0        6.00   \n",
       "4            15.20        1968.0        140.80              5.0       17.74   \n",
       "\n",
       "  Manufacturer  Manufacturer_id  Fuel_Type_id  Transmission_id  Owner_Type_id  \n",
       "0       Maruti               18             0                1              0  \n",
       "1      Hyundai               10             1                1              0  \n",
       "2        Honda                9             4                1              0  \n",
       "3       Maruti               18             1                1              0  \n",
       "4         Audi                1             1                0              2  "
      ]
     },
     "execution_count": 10,
     "metadata": {},
     "output_type": "execute_result"
    }
   ],
   "source": [
    "car_data_dup['Manufacturer_id']=pd.Categorical(car_data_dup.Manufacturer).codes\n",
    "car_data_dup['Fuel_Type_id']=pd.Categorical(car_data_dup.Fuel_Type).codes\n",
    "car_data_dup['Transmission_id']=pd.Categorical(car_data_dup.Transmission_Type).codes\n",
    "car_data_dup['Owner_Type_id']=pd.Categorical(car_data_dup.Owner_Type).codes\n",
    "car_data_dup.head()"
   ]
  },
  {
   "cell_type": "code",
   "execution_count": 11,
   "metadata": {},
   "outputs": [
    {
     "data": {
      "text/plain": [
       "Index(['Age_of_Car', 'Odometer_Reading', 'Fuel_Type', 'Transmission_Type',\n",
       "       'Owner_Type', 'Mileage_in_kmpl', 'Engine_in_cc', 'Power_in_bhp',\n",
       "       'Number_of_seats', 'Price_Lakh', 'Manufacturer', 'Manufacturer_id',\n",
       "       'Fuel_Type_id', 'Transmission_id', 'Owner_Type_id'],\n",
       "      dtype='object')"
      ]
     },
     "execution_count": 11,
     "metadata": {},
     "output_type": "execute_result"
    }
   ],
   "source": [
    "car_data_dup.columns"
   ]
  },
  {
   "cell_type": "code",
   "execution_count": 12,
   "metadata": {},
   "outputs": [
    {
     "data": {
      "text/plain": [
       "Index(['Age_of_Car', 'Odometer_Reading', 'Fuel_Type', 'Transmission_Type',\n",
       "       'Owner_Type', 'Mileage_in_kmpl', 'Engine_in_cc', 'Power_in_bhp',\n",
       "       'Number_of_seats', 'Price_Lakh', 'Manufacturer', 'Manufacturer_id',\n",
       "       'Fuel_Type_id', 'Transmission_id', 'Owner_Type_id'],\n",
       "      dtype='object')"
      ]
     },
     "execution_count": 12,
     "metadata": {},
     "output_type": "execute_result"
    }
   ],
   "source": [
    "car_data_dup.dropna(inplace=True)\n",
    "cleaned_data=car_data_dup.copy()\n",
    "cleaned_data.columns"
   ]
  },
  {
   "cell_type": "code",
   "execution_count": 13,
   "metadata": {},
   "outputs": [
    {
     "data": {
      "text/plain": [
       "Index(['Age_of_Car', 'Odometer_Reading', 'Mileage_in_kmpl', 'Engine_in_cc',\n",
       "       'Number_of_seats', 'Price_Lakh', 'Manufacturer_id', 'Fuel_Type_id',\n",
       "       'Transmission_id', 'Owner_Type_id'],\n",
       "      dtype='object')"
      ]
     },
     "execution_count": 13,
     "metadata": {},
     "output_type": "execute_result"
    }
   ],
   "source": [
    "car_data_dup.drop(['Fuel_Type','Transmission_Type','Owner_Type','Power_in_bhp','Manufacturer'],axis=1,inplace=True)\n",
    "car_data_dup.columns"
   ]
  },
  {
   "cell_type": "code",
   "execution_count": 14,
   "metadata": {},
   "outputs": [
    {
     "data": {
      "text/plain": [
       "Index(['Age_of_Car', 'Odometer_Reading', 'Fuel_Type', 'Transmission_Type',\n",
       "       'Owner_Type', 'Mileage_in_kmpl', 'Engine_in_cc', 'Power_in_bhp',\n",
       "       'Number_of_seats', 'Price_Lakh', 'Manufacturer', 'Manufacturer_id',\n",
       "       'Fuel_Type_id', 'Transmission_id', 'Owner_Type_id'],\n",
       "      dtype='object')"
      ]
     },
     "execution_count": 14,
     "metadata": {},
     "output_type": "execute_result"
    }
   ],
   "source": [
    "cleaned_data.columns"
   ]
  },
  {
   "cell_type": "code",
   "execution_count": 15,
   "metadata": {},
   "outputs": [],
   "source": [
    "car_data_dup['Odometer_Reading'] = np.where(car_data_dup['Odometer_Reading'] > 200000, 100000, car_data_dup['Odometer_Reading'])"
   ]
  },
  {
   "cell_type": "code",
   "execution_count": 16,
   "metadata": {},
   "outputs": [
    {
     "name": "stdout",
     "output_type": "stream",
     "text": [
      "<class 'pandas.core.frame.DataFrame'>\n",
      "Int64Index: 6017 entries, 0 to 6018\n",
      "Data columns (total 10 columns):\n",
      " #   Column            Non-Null Count  Dtype  \n",
      "---  ------            --------------  -----  \n",
      " 0   Age_of_Car        6017 non-null   int64  \n",
      " 1   Odometer_Reading  6017 non-null   int64  \n",
      " 2   Mileage_in_kmpl   6017 non-null   float64\n",
      " 3   Engine_in_cc      6017 non-null   float64\n",
      " 4   Number_of_seats   6017 non-null   float64\n",
      " 5   Price_Lakh        6017 non-null   float64\n",
      " 6   Manufacturer_id   6017 non-null   int8   \n",
      " 7   Fuel_Type_id      6017 non-null   int8   \n",
      " 8   Transmission_id   6017 non-null   int8   \n",
      " 9   Owner_Type_id     6017 non-null   int8   \n",
      "dtypes: float64(4), int64(2), int8(4)\n",
      "memory usage: 352.6 KB\n"
     ]
    }
   ],
   "source": [
    "car_data_dup.info()"
   ]
  },
  {
   "cell_type": "markdown",
   "metadata": {},
   "source": [
    "### Type conversion"
   ]
  },
  {
   "cell_type": "code",
   "execution_count": 17,
   "metadata": {},
   "outputs": [],
   "source": [
    "car_data_dup['Mileage_in_kmpl']=car_data_dup['Mileage_in_kmpl'].astype('int64')\n",
    "car_data_dup['Engine_in_cc']=car_data_dup['Engine_in_cc'].astype('int64')\n",
    "car_data_dup['Number_of_seats']=car_data_dup['Number_of_seats'].astype('int64')\n",
    "car_data_dup['Price_Lakh']=car_data_dup['Price_Lakh']*100000"
   ]
  },
  {
   "cell_type": "code",
   "execution_count": 18,
   "metadata": {},
   "outputs": [
    {
     "data": {
      "text/plain": [
       "<matplotlib.axes._subplots.AxesSubplot at 0x25d39d77908>"
      ]
     },
     "execution_count": 18,
     "metadata": {},
     "output_type": "execute_result"
    },
    {
     "data": {
      "image/png": "[encoded data removed]",
      "text/plain": [
       "<Figure size 1008x864 with 2 Axes>"
      ]
     },
     "metadata": {
      "needs_background": "light"
     },
     "output_type": "display_data"
    }
   ],
   "source": [
    "fig, ax = plt.subplots(figsize=(14,12))\n",
    "sns.heatmap(car_data_dup.corr(), annot=True)"
   ]
  },
  {
   "cell_type": "code",
   "execution_count": 18,
   "metadata": {},
   "outputs": [
    {
     "data": {
      "text/plain": [
       "Age_of_Car            22\n",
       "Odometer_Reading    3065\n",
       "Mileage_in_kmpl       28\n",
       "Engine_in_cc         147\n",
       "Number_of_seats        9\n",
       "Price_Lakh          1373\n",
       "Manufacturer_id       31\n",
       "Fuel_Type_id           5\n",
       "Transmission_id        2\n",
       "Owner_Type_id          4\n",
       "dtype: int64"
      ]
     },
     "execution_count": 18,
     "metadata": {},
     "output_type": "execute_result"
    }
   ],
   "source": [
    "car_data_dup.nunique()"
   ]
  },
  {
   "cell_type": "markdown",
   "metadata": {},
   "source": [
    "## Machine Learning Model"
   ]
  },
  {
   "cell_type": "code",
   "execution_count": 19,
   "metadata": {},
   "outputs": [],
   "source": [
    "from sklearn.model_selection import train_test_split\n",
    "from sklearn import metrics\n",
    "X = car_data_dup.drop('Price_Lakh', axis = 1 )\n",
    "Y = car_data_dup['Price_Lakh']\n",
    "\n",
    "# Split the dataset into training and test data test\n",
    "X_train, X_test, Y_train, Y_test = train_test_split(X, Y, test_size=0.30, random_state=42)"
   ]
  },
  {
   "cell_type": "markdown",
   "metadata": {},
   "source": [
    "### Linear regression"
   ]
  },
  {
   "cell_type": "code",
   "execution_count": 20,
   "metadata": {},
   "outputs": [
    {
     "data": {
      "text/plain": [
       "LinearRegression()"
      ]
     },
     "execution_count": 20,
     "metadata": {},
     "output_type": "execute_result"
    }
   ],
   "source": [
    "from sklearn import linear_model\n",
    "LR = linear_model.LinearRegression()\n",
    "LR.fit(X_train, Y_train)"
   ]
  },
  {
   "cell_type": "markdown",
   "metadata": {},
   "source": [
    "###### Linear regression score value"
   ]
  },
  {
   "cell_type": "code",
   "execution_count": 21,
   "metadata": {},
   "outputs": [
    {
     "data": {
      "text/plain": [
       "0.6615880840052949"
      ]
     },
     "execution_count": 21,
     "metadata": {},
     "output_type": "execute_result"
    }
   ],
   "source": [
    "LR.score(X_train,Y_train)"
   ]
  },
  {
   "cell_type": "code",
   "execution_count": 22,
   "metadata": {},
   "outputs": [
    {
     "data": {
      "text/plain": [
       "array([ 495610.44427795, 1031457.77553438,   27734.50295045, ...,\n",
       "        725730.82600603, 2630700.41926943,  847620.91885192])"
      ]
     },
     "execution_count": 22,
     "metadata": {},
     "output_type": "execute_result"
    }
   ],
   "source": [
    "# Predict the values of model\n",
    "Y_pred_LR = LR.predict(X_test)\n",
    "Y_pred_LR"
   ]
  },
  {
   "cell_type": "code",
   "execution_count": 23,
   "metadata": {},
   "outputs": [
    {
     "name": "stdout",
     "output_type": "stream",
     "text": [
      "R_Squared of MLR Model is: 0.64\n"
     ]
    }
   ],
   "source": [
    "# R squared metric value for LRM\n",
    "from sklearn.metrics import r2_score\n",
    "print(\"R_Squared of MLR Model is: %0.2f\" % (r2_score(Y_test, Y_pred_LR)))"
   ]
  },
  {
   "cell_type": "markdown",
   "metadata": {},
   "source": [
    "###### MAE,MSE,MRE for linear regression"
   ]
  },
  {
   "cell_type": "code",
   "execution_count": 24,
   "metadata": {},
   "outputs": [
    {
     "name": "stdout",
     "output_type": "stream",
     "text": [
      "MAE: 410334.81438565545\n",
      "MSE: 483881284065.21967\n",
      "RMSE: 695615.7589252989\n"
     ]
    }
   ],
   "source": [
    "print('MAE:', metrics.mean_absolute_error(Y_test, Y_pred_LR))\n",
    "print('MSE:', metrics.mean_squared_error(Y_test, Y_pred_LR))\n",
    "print('RMSE:', np.sqrt(metrics.mean_squared_error(Y_test,Y_pred_LR)))"
   ]
  },
  {
   "cell_type": "code",
   "execution_count": 25,
   "metadata": {},
   "outputs": [
    {
     "name": "stdout",
     "output_type": "stream",
     "text": [
      "Coefficients  [-9.49854824e+04 -3.82733744e+00 -2.47178829e+04  1.02039469e+03\n",
      " -2.54757349e+05 -1.17009237e+04 -9.55542169e+04 -4.79810041e+05\n",
      "  1.08996983e+04]\n",
      "Intercepts  2664857.721748515\n"
     ]
    }
   ],
   "source": [
    "#coefficients and intercept\n",
    "print(\"Coefficients \",LR.coef_)\n",
    "print(\"Intercepts \",LR.intercept_)"
   ]
  },
  {
   "cell_type": "code",
   "execution_count": 26,
   "metadata": {},
   "outputs": [
    {
     "name": "stdout",
     "output_type": "stream",
     "text": [
      "                    Coefficient\n",
      "Age_of_Car        -94985.482375\n",
      "Odometer_Reading      -3.827337\n",
      "Mileage_in_kmpl   -24717.882875\n",
      "Engine_in_cc        1020.394692\n",
      "Number_of_seats  -254757.348980\n",
      "Manufacturer_id   -11700.923714\n",
      "Fuel_Type_id      -95554.216949\n",
      "Transmission_id  -479810.041292\n",
      "Owner_Type_id      10899.698338\n"
     ]
    }
   ],
   "source": [
    "# Coefficient of each columns of dataset\n",
    "coeff = pd.DataFrame(data = LR.coef_, index = X.columns, columns = ['Coefficient'])\n",
    "print(coeff)"
   ]
  },
  {
   "cell_type": "markdown",
   "metadata": {},
   "source": [
    "###### Scatter plot of Linear Regression model"
   ]
  },
  {
   "cell_type": "code",
   "execution_count": 27,
   "metadata": {},
   "outputs": [
    {
     "data": {
      "image/png": "[encoded data removed]",
      "text/plain": [
       "<Figure size 864x576 with 1 Axes>"
      ]
     },
     "metadata": {
      "needs_background": "light"
     },
     "output_type": "display_data"
    }
   ],
   "source": [
    "plt.figure(figsize=(12,8))\n",
    "plt.scatter(Y_test, Y_pred_LR)\n",
    "plt.xlabel('True Car Price')\n",
    "plt.ylabel('Linear Regression - Predicted Car Price')\n",
    "plt.plot([min(Y_test), max(Y_test)], [min(Y_test), max(Y_test)])\n",
    "plt.tight_layout()"
   ]
  },
  {
   "cell_type": "markdown",
   "metadata": {},
   "source": [
    "#### cross validation of linear regression"
   ]
  },
  {
   "cell_type": "code",
   "execution_count": 28,
   "metadata": {},
   "outputs": [
    {
     "data": {
      "text/plain": [
       "array([0.66004493, 0.67467977, 0.6531307 , 0.62162841, 0.66757086,\n",
       "       0.6520825 , 0.51736554, 0.67656243, 0.70337414, 0.68535245])"
      ]
     },
     "execution_count": 28,
     "metadata": {},
     "output_type": "execute_result"
    }
   ],
   "source": [
    "# import cross validation score\n",
    "from sklearn.model_selection import cross_val_score\n",
    "\n",
    "# Compute Prediction score of Multiple Linear Regression model on the dataset by splitting the data and \n",
    "# calculating the score 10 consecutive times with different splits each time\n",
    "Scores_LR = cross_val_score(LR, X, Y,cv=10)\n",
    "Scores_LR"
   ]
  },
  {
   "cell_type": "code",
   "execution_count": 29,
   "metadata": {},
   "outputs": [
    {
     "name": "stdout",
     "output_type": "stream",
     "text": [
      "Mean Score of Multiple Linear Regression Model is:  65.11791726521686\n"
     ]
    }
   ],
   "source": [
    "# Calculate the mean score of the 10 different models\n",
    "Score_LR = cross_val_score(LR, X, Y,cv=10).mean() * 100\n",
    "print(\"Mean Score of Multiple Linear Regression Model is: \" , Score_LR)"
   ]
  },
  {
   "cell_type": "code",
   "execution_count": 30,
   "metadata": {},
   "outputs": [
    {
     "name": "stdout",
     "output_type": "stream",
     "text": [
      " 0.65 (+/- 0.10)\n"
     ]
    }
   ],
   "source": [
    "# Calculate the average prediction score and standard deviation\n",
    "print(\" %0.2f (+/- %0.2f)\" % (Scores_LR.mean(), Scores_LR.std() * 2))"
   ]
  },
  {
   "cell_type": "code",
   "execution_count": 31,
   "metadata": {},
   "outputs": [
    {
     "data": {
      "text/plain": [
       "array([-145583.56849923, 1198288.63674919,  165767.81852755,\n",
       "       -234045.03988539, 2068071.55604558, -263659.27201051,\n",
       "        496843.04644712, 2262195.610829  ,  734857.57921843,\n",
       "        246785.78764056])"
      ]
     },
     "execution_count": 31,
     "metadata": {},
     "output_type": "execute_result"
    }
   ],
   "source": [
    "# Obtaining predictions by cross-validation cross_val_predict function\n",
    "# cross_val_predict returns for each element in the input or features data the prediction that was \n",
    "# produced for that element when it was in the test set import cross_val_predict\n",
    "from sklearn.model_selection import cross_val_predict\n",
    "cross_val_Y_pred_LR = cross_val_predict(LR, X, Y, cv=10)\n",
    "# Display the first 10 of Numpy array\n",
    "cross_val_Y_pred_LR[:10]"
   ]
  },
  {
   "cell_type": "code",
   "execution_count": 32,
   "metadata": {},
   "outputs": [
    {
     "name": "stdout",
     "output_type": "stream",
     "text": [
      "(0.6511791726521686, 0.0984275667266039)\n"
     ]
    }
   ],
   "source": [
    "# Multiple Linear Regression with Cross Validation R Squared Metric.\n",
    "# R Squared has a value between 0 and 1\n",
    "# Determine the goodness of fit of predicted used car prices to the true values.\n",
    "R_Squared_result_LR = cross_val_score(LR, X, Y, cv=10, scoring='r2')\n",
    "print( (R_Squared_result_LR.mean(), R_Squared_result_LR.std() * 2))"
   ]
  },
  {
   "cell_type": "code",
   "execution_count": 33,
   "metadata": {},
   "outputs": [
    {
     "name": "stdout",
     "output_type": "stream",
     "text": [
      "MAE of Multiple Linear Regression is: -405552.23 (+/- 40495.70)\n",
      "MSE of Multiple Linear Regression is: -435344987174.94 (+/- 149108151942.34)\n",
      "RMSE of MLR is: 659806.78 (+/-) 386145.2472093091\n"
     ]
    }
   ],
   "source": [
    "# Cross Validation Linear Regression MAE\n",
    "MAE_result_LR = cross_val_score(LR, X, Y, cv=10, scoring='neg_mean_absolute_error')\n",
    "# Cross Validation Linear Regression MSE and RMSE\n",
    "MSE_result_LR = cross_val_score(LR, X, Y, cv=10, scoring='neg_mean_squared_error')\n",
    "\n",
    "print(\"MAE of Multiple Linear Regression is: %0.2f (+/- %0.2f)\" % (MAE_result_LR.mean(),MAE_result_LR.std() * 2))\n",
    "print(\"MSE of Multiple Linear Regression is: %0.2f (+/- %0.2f)\" % (MSE_result_LR.mean(),MSE_result_LR.std() * 2))\n",
    "print(\"RMSE of MLR is: %0.2f (+/-)\" % (np.sqrt(-(MSE_result_LR.mean()))), np.sqrt(MSE_result_LR.std() * 2))"
   ]
  },
  {
   "cell_type": "code",
   "execution_count": 39,
   "metadata": {},
   "outputs": [
    {
     "data": {
      "image/png": "[encoded data removed]",
      "text/plain": [
       "<Figure size 864x576 with 1 Axes>"
      ]
     },
     "metadata": {
      "needs_background": "light"
     },
     "output_type": "display_data"
    }
   ],
   "source": [
    "# Create Cross-Validation Scatter Plot of Linear Regression model\n",
    "plt.figure(figsize=(12,8))\n",
    "plt.scatter(Y,cross_val_Y_pred_LR)\n",
    "plt.xlabel('y - True Car Price')\n",
    "plt.ylabel('Cross-Validated Linear Regression - Predicted Car Price')\n",
    "plt.plot([min(Y), max(Y)], [min(Y), max(Y)])\n",
    "plt.tight_layout()\n",
    "plt.title('Cross-Validated Linear Regression Scatterplot')\n",
    "plt.savefig('Cross-Validated Linear Regression Scatterplot.pdf')"
   ]
  },
  {
   "cell_type": "markdown",
   "metadata": {},
   "source": [
    "## Decision Tree regressor Model"
   ]
  },
  {
   "cell_type": "code",
   "execution_count": 34,
   "metadata": {},
   "outputs": [
    {
     "data": {
      "text/plain": [
       "0.6827262310176992"
      ]
     },
     "execution_count": 34,
     "metadata": {},
     "output_type": "execute_result"
    }
   ],
   "source": [
    "# Import SK Learn Decision Tree Regressor\n",
    "from sklearn.tree import DecisionTreeRegressor\n",
    "# Create Decision Tree Regressor\n",
    "DTR = DecisionTreeRegressor(random_state=42)\n",
    "# Fit (that is Train) the training data to Decision Tree Regressor\n",
    "DTR.fit(X_train, Y_train)\n",
    "# Produce Decision Tree Regressor Score value\n",
    "DTR.score(X_test,Y_test)"
   ]
  },
  {
   "cell_type": "code",
   "execution_count": 35,
   "metadata": {},
   "outputs": [
    {
     "data": {
      "text/plain": [
       "array([ 581000.,  750000.,  365000., ...,  500000., 3273000.,  560000.])"
      ]
     },
     "execution_count": 35,
     "metadata": {},
     "output_type": "execute_result"
    }
   ],
   "source": [
    "# predict the values by providing the test data to the Decision Tree Regression model\n",
    "Y_pred_DTR = DTR.predict(X_test)\n",
    "# Display the first 10 of Numpy array\n",
    "Y_pred_DTR"
   ]
  },
  {
   "cell_type": "code",
   "execution_count": 36,
   "metadata": {},
   "outputs": [
    {
     "name": "stdout",
     "output_type": "stream",
     "text": [
      "R_Squared of Decision Tree Regression Model is: 0.68\n"
     ]
    }
   ],
   "source": [
    "# Compute and Display R Squared Metric value \n",
    "# for Decision Tree Regression Model\n",
    "from sklearn.metrics import r2_score\n",
    "print(\"R_Squared of Decision Tree Regression Model is: %0.2f\" % (r2_score(Y_test, Y_pred_DTR)))"
   ]
  },
  {
   "cell_type": "code",
   "execution_count": 37,
   "metadata": {},
   "outputs": [
    {
     "name": "stdout",
     "output_type": "stream",
     "text": [
      "MAE: 258060.76965669988\n",
      "MSE: 426152182066.72205\n",
      "RMSE: 652803.3257166526\n"
     ]
    }
   ],
   "source": [
    "# Dislay MAE, MSE and RMSE for Decision Tree Regression model\n",
    "print('MAE:', metrics.mean_absolute_error(Y_test, Y_pred_DTR))\n",
    "print('MSE:', metrics.mean_squared_error(Y_test, Y_pred_DTR))\n",
    "print('RMSE:', np.sqrt(metrics.mean_squared_error(Y_test,Y_pred_DTR)))\n"
   ]
  },
  {
   "cell_type": "code",
   "execution_count": 44,
   "metadata": {},
   "outputs": [
    {
     "data": {
      "image/png": "[encoded data removed]",
      "text/plain": [
       "<Figure size 864x576 with 1 Axes>"
      ]
     },
     "metadata": {
      "needs_background": "light"
     },
     "output_type": "display_data"
    }
   ],
   "source": [
    "# create the Scatter plot of Decision Tree Regression model\n",
    "plt.figure(figsize=(12,8))\n",
    "plt.scatter(Y_test, Y_pred_DTR)\n",
    "plt.xlabel('y_test - True Car Price')\n",
    "plt.ylabel('Decision Tree Regressor - Predicted Car Price')\n",
    "plt.plot([min(Y_test), max(Y_test)], [min(Y_test), max(Y_test)])\n",
    "plt.tight_layout()\n",
    "plt.title('Decision Tree Regression Model Scatterplot')\n",
    "plt.savefig('Decision Tree Regression Model Scatterplot.pdf')"
   ]
  },
  {
   "cell_type": "markdown",
   "metadata": {},
   "source": [
    "### Cross validation of decision Tree"
   ]
  },
  {
   "cell_type": "code",
   "execution_count": 38,
   "metadata": {},
   "outputs": [
    {
     "data": {
      "text/plain": [
       "array([0.83142068, 0.74173672, 0.74463299, 0.52788618, 0.79740718,\n",
       "       0.64541849, 0.75825761, 0.79021989, 0.79900078, 0.78181155])"
      ]
     },
     "execution_count": 38,
     "metadata": {},
     "output_type": "execute_result"
    }
   ],
   "source": [
    "# Compute Prediction score of Decision Tree Regression on the dataset by splitting the data and \n",
    "# calculating the score 10 consecutive times with different splits each time\n",
    "Scores_DTR = cross_val_score(DTR, X, Y, cv=10)\n",
    "# Display the Decision Tree Scores - R Squared displayed 10 Times\n",
    "Scores_DTR"
   ]
  },
  {
   "cell_type": "code",
   "execution_count": 39,
   "metadata": {},
   "outputs": [
    {
     "name": "stdout",
     "output_type": "stream",
     "text": [
      "Average Score of Decision Tree Regression Model is:  74.17792064127265\n"
     ]
    }
   ],
   "source": [
    "# Calculate the mean or average score of the 10 different models\n",
    "Score_DTR = cross_val_score(DTR, X, Y, cv=10).mean() * 100\n",
    "print(\"Average Score of Decision Tree Regression Model is: \" , Score_DTR)"
   ]
  },
  {
   "cell_type": "code",
   "execution_count": 40,
   "metadata": {},
   "outputs": [
    {
     "name": "stdout",
     "output_type": "stream",
     "text": [
      "Average Score of Decision Tree Regression Model is: 0.74 (+/- 0.17)\n"
     ]
    }
   ],
   "source": [
    "## Calculate the mean or average decision tree score and standard deviation\n",
    "print(\"Average Score of Decision Tree Regression Model is: %0.2f (+/- %0.2f)\" % (Scores_DTR.mean(), Scores_DTR.std() * 2))"
   ]
  },
  {
   "cell_type": "code",
   "execution_count": 41,
   "metadata": {},
   "outputs": [
    {
     "data": {
      "text/plain": [
       "array([ 227000., 1190000.,  180000.,  585000., 3250000.,  250000.,\n",
       "        365000., 1645000.,  450000.,  120000.])"
      ]
     },
     "execution_count": 41,
     "metadata": {},
     "output_type": "execute_result"
    }
   ],
   "source": [
    "# Obtaining predictions by cross-validation cross_val_function\n",
    "# cross_val_function returns for each element in the input or features data the prediction that was produced for that element when it was in the test set.\n",
    "# import cross_val_predict\n",
    "from sklearn.model_selection import cross_val_predict\n",
    "cross_val_Y_pred_DTR = cross_val_predict(DTR, X, Y, cv=10)\n",
    "# Display the first 10 of Numpy array\n",
    "cross_val_Y_pred_DTR[:10]\n"
   ]
  },
  {
   "cell_type": "code",
   "execution_count": 42,
   "metadata": {},
   "outputs": [
    {
     "name": "stdout",
     "output_type": "stream",
     "text": [
      "R Squared of DTR with Cross Validation Model is: 0.74 (+/- 0.17)\n"
     ]
    }
   ],
   "source": [
    "# Decision Tree Regression with Cross Validation R Squared Metric.\n",
    "# R Squared has a value between 0 and 1\n",
    "# Determine the goodness of fit of predicted used car prices to the true values.\n",
    "R_Squared_result_DTR = cross_val_score(DTR, X, Y, cv=10, scoring='r2')\n",
    "print(\"R Squared of DTR with Cross Validation Model is: %0.2f (+/- %0.2f)\" % (R_Squared_result_DTR.mean(), R_Squared_result_DTR.std() * 2))"
   ]
  },
  {
   "cell_type": "code",
   "execution_count": 43,
   "metadata": {},
   "outputs": [
    {
     "name": "stdout",
     "output_type": "stream",
     "text": [
      "MAE of Decision Tree Regression is: -322277973195.33 (+/- 246791587228.82)\n",
      "MSE of Decision Tree Regression is: -322277973195.33 (+/- 246791587228.82)\n",
      "RMSE of DTR is: 567695.32 (+/-) 496781.22672743566\n"
     ]
    }
   ],
   "source": [
    "# Cross Validation Decision Tree Regression MAE\n",
    "MAE_result_DTR = cross_val_score(DTR, X, Y, cv=10, scoring='neg_mean_absolute_error')\n",
    "\n",
    "# Cross Validation Decision Tree MSE and RMSE\n",
    "MAE_result_DTR = cross_val_score(DTR, X, Y, cv=10, scoring='neg_mean_squared_error')\n",
    "\n",
    "print(\"MAE of Decision Tree Regression is: %0.2f (+/- %0.2f)\" % (MAE_result_DTR.mean(), MAE_result_DTR.std() * 2))\n",
    "print(\"MSE of Decision Tree Regression is: %0.2f (+/- %0.2f)\" % (MAE_result_DTR.mean(), MAE_result_DTR.std() * 2))\n",
    "print(\"RMSE of DTR is: %0.2f (+/-)\" % (np.sqrt(-(MAE_result_DTR.mean()))), np.sqrt(MAE_result_DTR.std() * 2))"
   ]
  },
  {
   "cell_type": "code",
   "execution_count": 51,
   "metadata": {},
   "outputs": [
    {
     "data": {
      "image/png": "[encoded data removed]",
      "text/plain": [
       "<Figure size 864x576 with 1 Axes>"
      ]
     },
     "metadata": {
      "needs_background": "light"
     },
     "output_type": "display_data"
    }
   ],
   "source": [
    "# Create Scatter Plot of Decision Tree Regression model with Cross-Validation\n",
    "plt.figure(figsize=(12,8))\n",
    "plt.scatter(Y, cross_val_Y_pred_DTR)\n",
    "plt.xlabel('y - True Car Price')\n",
    "plt.ylabel('Cross-Validated Decision Tree Regression - Predicted Car Price')\n",
    "plt.plot([min(Y), max(Y)], [min(Y), max(Y)])\n",
    "plt.tight_layout()\n",
    "plt.title('Cross-Validated Decision Tree Regression Scatterplot')\n",
    "plt.savefig('Cross-Validated Decision Tree Regression Scatterplot.pdf')"
   ]
  },
  {
   "cell_type": "markdown",
   "metadata": {},
   "source": [
    "## Random Forest Algorithm"
   ]
  },
  {
   "cell_type": "code",
   "execution_count": 44,
   "metadata": {},
   "outputs": [],
   "source": [
    "# Import SK Learn Random Forest Regressor\n",
    "from sklearn.ensemble import RandomForestRegressor\n",
    "# Create Random Forest Regressor instance\n",
    "RFR = RandomForestRegressor(random_state=42)"
   ]
  },
  {
   "cell_type": "code",
   "execution_count": 45,
   "metadata": {},
   "outputs": [
    {
     "data": {
      "text/plain": [
       "RandomForestRegressor(random_state=42)"
      ]
     },
     "execution_count": 45,
     "metadata": {},
     "output_type": "execute_result"
    }
   ],
   "source": [
    "# Fit the training data to Random Forest Regressor\n",
    "RFR.fit(X_train, Y_train)"
   ]
  },
  {
   "cell_type": "code",
   "execution_count": 46,
   "metadata": {},
   "outputs": [
    {
     "data": {
      "text/plain": [
       "0.8468424255834244"
      ]
     },
     "execution_count": 46,
     "metadata": {},
     "output_type": "execute_result"
    }
   ],
   "source": [
    "# Produce Random Forest Regressor Score value\n",
    "RFR.score(X_test, Y_test)"
   ]
  },
  {
   "cell_type": "code",
   "execution_count": 47,
   "metadata": {},
   "outputs": [
    {
     "data": {
      "text/plain": [
       "array([ 550860.,  628780.,  678330., ...,  567020., 3384230.,  588820.])"
      ]
     },
     "execution_count": 47,
     "metadata": {},
     "output_type": "execute_result"
    }
   ],
   "source": [
    "# predict the values by providing the test data to the Random Forest Regression model\n",
    "Y_pred_RFR = RFR.predict(X_test)\n",
    "Y_pred_RFR"
   ]
  },
  {
   "cell_type": "code",
   "execution_count": 48,
   "metadata": {},
   "outputs": [
    {
     "name": "stdout",
     "output_type": "stream",
     "text": [
      "MAE: 192265.12654906922\n",
      "MSE: 205716453481.25537\n",
      "RMSE: 453559.7573432363\n"
     ]
    }
   ],
   "source": [
    "# Dislay MAE, MSE and RMSE for Decision Tree Regression model\n",
    "print('MAE:', metrics.mean_absolute_error(Y_test, Y_pred_RFR))\n",
    "print('MSE:', metrics.mean_squared_error(Y_test, Y_pred_RFR))\n",
    "print('RMSE:', np.sqrt(metrics.mean_squared_error(Y_test,Y_pred_RFR)))"
   ]
  },
  {
   "cell_type": "code",
   "execution_count": 49,
   "metadata": {},
   "outputs": [
    {
     "data": {
      "image/png": "[encoded data removed]",
      "text/plain": [
       "<Figure size 864x576 with 1 Axes>"
      ]
     },
     "metadata": {
      "needs_background": "light"
     },
     "output_type": "display_data"
    }
   ],
   "source": [
    "plt.figure(figsize=(12,8))\n",
    "plt.scatter(Y_test, Y_pred_RFR)\n",
    "plt.xlabel('Y_test - True Car Price')\n",
    "plt.ylabel('Random Forest Regressor - Predicted Car Price')\n",
    "plt.plot([min(Y_test), max(Y_test)], [min(Y_test), max(Y_test)])\n",
    "plt.tight_layout()"
   ]
  },
  {
   "cell_type": "code",
   "execution_count": 50,
   "metadata": {},
   "outputs": [
    {
     "data": {
      "text/plain": [
       "Index(['Age_of_Car', 'Odometer_Reading', 'Fuel_Type', 'Transmission_Type',\n",
       "       'Owner_Type', 'Mileage_in_kmpl', 'Engine_in_cc', 'Power_in_bhp',\n",
       "       'Number_of_seats', 'Price_Lakh', 'Manufacturer', 'Manufacturer_id',\n",
       "       'Fuel_Type_id', 'Transmission_id', 'Owner_Type_id'],\n",
       "      dtype='object')"
      ]
     },
     "execution_count": 50,
     "metadata": {},
     "output_type": "execute_result"
    }
   ],
   "source": [
    "cleaned_data.columns"
   ]
  },
  {
   "cell_type": "markdown",
   "metadata": {},
   "source": [
    "## GUI"
   ]
  },
  {
   "cell_type": "code",
   "execution_count": 51,
   "metadata": {},
   "outputs": [],
   "source": [
    "# Tkinter GUI\n",
    "\n",
    "from tkinter import *\n",
    "import tkinter as tk\n",
    "from PIL import Image, ImageTk\n",
    "import PIL.Image\n",
    "import PIL.ImageTk\n",
    "\n",
    "root= Tk()\n",
    "\n",
    "    \n",
    "class Placeholder_State(object):\n",
    "     __slots__ = 'normal_color', 'normal_font', 'placeholder_text', 'placeholder_color', 'placeholder_font', 'with_placeholder'\n",
    "\n",
    "def add_placeholder_to(entry, placeholder, color=\"black\", font=None):\n",
    "    normal_color = entry.cget(\"fg\")\n",
    "    normal_font = entry.cget(\"font\")\n",
    "    \n",
    "    if font is None:\n",
    "        font = normal_font\n",
    "\n",
    "    state = Placeholder_State()\n",
    "    state.normal_color=normal_color\n",
    "    state.normal_font=normal_font\n",
    "    state.placeholder_color=color\n",
    "    state.placeholder_font=font\n",
    "    state.placeholder_text = placeholder\n",
    "    state.with_placeholder=True\n",
    "\n",
    "    def on_focusin(event, entry=entry, state=state):\n",
    "        if state.with_placeholder:\n",
    "            entry.delete(0, \"end\")\n",
    "            entry.config(fg = state.normal_color, font=state.normal_font)\n",
    "        \n",
    "            state.with_placeholder = False\n",
    "\n",
    "    def on_focusout(event, entry=entry, state=state):\n",
    "        if entry.get() == '':\n",
    "            entry.insert(0, state.placeholder_text)\n",
    "            entry.config(fg = state.placeholder_color, font=state.placeholder_font)\n",
    "            \n",
    "            state.with_placeholder = True\n",
    "\n",
    "    entry.insert(0, placeholder)\n",
    "    entry.config(fg = color, font=font)\n",
    "\n",
    "    entry.bind('<FocusIn>', on_focusin, add=\"+\")\n",
    "    entry.bind('<FocusOut>', on_focusout, add=\"+\")\n",
    "    \n",
    "    entry.placeholder_state = state\n",
    "\n",
    "    return state\n",
    "\n",
    "\n",
    "FINAL1=StringVar(root)\n",
    "FINAL2=StringVar(root)\n",
    "FINAL1.set(\"Here is your car value!!!\\n Rs. \")\n",
    "FINAL2.set(\"0\")\n",
    "\n",
    "def click():\n",
    "    year_ip=y.get()\n",
    "    km_ip=d.get()\n",
    "    mileage_ip=milg.get()\n",
    "    engine_ip=egn.get()\n",
    "    seats_ip=seat.get()\n",
    "    \n",
    "    manufacturer_ip=m.get()\n",
    "    fuel_ip=f.get()\n",
    "    trans_ip=t.get()\n",
    "    owner_ip=ow.get()\n",
    "    \n",
    "    \n",
    "    a=np.array(cleaned_data[cleaned_data['Transmission_Type']==trans_ip].Transmission_id)\n",
    "    trans_ip=a[0]\n",
    "    a=np.array(cleaned_data[cleaned_data['Manufacturer']==manufacturer_ip].Manufacturer_id)\n",
    "    manufacturer_ip=a[0]\n",
    "    a=np.array(cleaned_data[cleaned_data['Fuel_Type']==fuel_ip].Fuel_Type_id)\n",
    "    fuel_ip=a[0]\n",
    "    a=np.array(cleaned_data[cleaned_data['Owner_Type']==owner_ip].Owner_Type_id)\n",
    "    owner_ip=a[0]\n",
    "    \n",
    "\n",
    "\n",
    "    TEST=np.array([int(year_ip),int(km_ip),int(mileage_ip),int(engine_ip),int(seats_ip),int(manufacturer_ip),int(fuel_ip),int(trans_ip),int(owner_ip)])\n",
    "    TEST=pd.DataFrame([TEST])\n",
    "    \n",
    "    FINAL1.set(\"Predicted price (Rs)\")\n",
    "    Label(root,textvariable=FINAL1, height=1,width=20, font='arabic 19 italic', bg=\"white\").place(x=500,y=450)\n",
    "    \n",
    "    FINAL2.set(*RFR.predict(TEST))\n",
    "    Label(root,textvariable=FINAL2, height=1,width=20, font=('verdana', 16, 'bold'), bg=\"white\").place(x=500,y=500)\n",
    "    \n",
    "#root.iconbitmap('python_logo.ico')\n",
    "root.title(\"CAR PRICE PREDICTOR\")\n",
    "root.geometry(\"800x700\")\n",
    "root.config(bg=\"Black\")\n",
    "col=\"white\"\n",
    "fontt=('arabic 15 italic')\n",
    "space=50\n",
    "wid=36\n",
    "Ewidth=41\n",
    "labelfont = ('Comic Sans MS', 30, 'bold','italic')\n",
    "\n",
    "\n",
    "\n",
    "\n",
    "# Age of Car\n",
    "year = [\"20\",\"19\",\"18\",\"17\",\"16\",\"15\",\"14\",\"13\",\"12\",\"11\",\"10\",\"09\",\"08\",\"07\",\"06\",\"05\",\"04\",\"03\",\"02\",\"01\",\"21\",\"22\",\"23\",\"24\",\"25\",\"26\"]\n",
    "year.sort()\n",
    "y = StringVar(root)\n",
    "y.set(\"Age_of_Car\")\n",
    "drop3 = OptionMenu(root, y, *year)\n",
    "drop3.config(font=fontt,bg=col ,width=wid)\n",
    "drop3.place(x=space,y=space+50)\n",
    "drop3['menu'].config(font=('verdana',(15)),bg=col)\n",
    "\n",
    "\n",
    "\n",
    "# manufacturer type\n",
    "manufacturer = ['Maruti', 'Hyundai', 'Honda', 'Audi', 'Nissan', 'Toyota',\n",
    "       'Volkswagen', 'Tata', 'Land', 'Mitsubishi', 'Renault',\n",
    "       'Mercedes-Benz', 'BMW', 'Mahindra', 'Ford', 'Porsche', 'Datsun',\n",
    "       'Jaguar', 'Volvo', 'Chevrolet', 'Skoda', 'Mini', 'Fiat', 'Jeep',\n",
    "       'Smart', 'Ambassador', 'Isuzu', 'ISUZU', 'Force', 'Bentley',\n",
    "       'Lamborghini']\n",
    "manufacturer.sort()\n",
    "m = StringVar(root)\n",
    "m.set(\"Manufacturer\")\n",
    "drop3 = OptionMenu(root, m, *manufacturer)\n",
    "drop3.config(font=fontt,bg=col ,width=wid)\n",
    "drop3.place(x=space,y=space+100)\n",
    "drop3['menu'].config(font=('verdana',(15)),bg=col)\n",
    "\n",
    "\n",
    "\n",
    "# fuel type\n",
    "Fuel = ['CNG', 'Diesel', 'Petrol', 'LPG', 'Electric']\n",
    "Fuel.sort()\n",
    "f = StringVar(root)\n",
    "f.set(\"Fuel_Type\")\n",
    "drop5 = OptionMenu(root, f, *Fuel)\n",
    "drop5.config(font=fontt,bg=col ,width=wid)\n",
    "drop5.place(x=space,y=space+150)\n",
    "drop5['menu'].config(font=('Courier',(15)),bg=col)\n",
    "\n",
    "# Transmission_Type\n",
    "Transmission = ['Automatic','Manual']\n",
    "t = StringVar(root)\n",
    "t.set(\"Transmission_Type\")\n",
    "drop6 = OptionMenu(root, t, *Transmission)\n",
    "drop6.config(font=fontt,bg=col ,width=wid)\n",
    "drop6.place(x=space,y=space+200)\n",
    "drop6['menu'].config(font=('verdana',(15)),bg=col)\n",
    "\n",
    "#Owner_Type\n",
    "owner = ['First', 'Second', 'Third', 'Fourth & Above',]\n",
    "ow = StringVar(root)\n",
    "ow.set(\"Owner_Type\")\n",
    "drop7 = OptionMenu(root, ow, *owner)\n",
    "drop7.config(font=fontt,bg=col ,width=wid)\n",
    "drop7.place(x=space,y=space+250)\n",
    "drop7['menu'].config(font=('verdana',(15)),bg=col)\n",
    "\n",
    "\n",
    "\n",
    "\n",
    "\n",
    "# Odometer_Reading\n",
    "d = IntVar(root)\n",
    "e1 = tk.Entry(root,textvariable=d)\n",
    "e1.config(font=fontt,bg=col ,width=Ewidth)\n",
    "e1.place(x=space+800,y=space+50)\n",
    "add_placeholder_to(e1,'\\tOdometer_Reading - ')\n",
    "\n",
    "\n",
    "#mileage_in_kmpl\n",
    "milg = IntVar(root)\n",
    "e2 = tk.Entry(root,textvariable=milg)\n",
    "e2.config(font=fontt,bg=col ,width=Ewidth)\n",
    "e2.place(x=space+800,y=space+100)\n",
    "add_placeholder_to(e2, '\\tMileage_in_kmpl -  ')\n",
    "\n",
    "\n",
    "\n",
    "#Engine_in_cc\n",
    "egn = IntVar(root)\n",
    "e3 = tk.Entry(root,textvariable=egn)\n",
    "e3.config(font=fontt,bg=col ,width=Ewidth)\n",
    "e3.place(x=space+800,y=space+160)\n",
    "add_placeholder_to(e3, '\\tEngine_in_cc -  ')\n",
    "\n",
    "\n",
    "#Number_of_seats\n",
    "seat = IntVar(root)\n",
    "e4 = tk.Entry(root,textvariable=seat)\n",
    "e4.config(font=fontt,bg=col ,width=Ewidth)\n",
    "e4.place(x=space+800,y=space+200)\n",
    "add_placeholder_to(e4, '\\tNumber_of_Seats - ')\n",
    "\n",
    "\n",
    "button = tk.Button(root, text='PREDICT PRICE', width=25, command=lambda:click())\n",
    "button.config(font=fontt,bg=\"green\",width=20,fg=\"white\")\n",
    "button.place(x=40,y=space+570)\n",
    "\n",
    "button = tk.Button(root, text='CANCEL', width=25, command=root.destroy )\n",
    "button.config(font=fontt,bg=\"red\",width=15,fg=\"white\")\n",
    "button.place(x=270,y=space+570)\n",
    "\n",
    "root.mainloop()"
   ]
  },
  {
   "cell_type": "code",
   "execution_count": null,
   "metadata": {},
   "outputs": [],
   "source": []
  },
  {
   "cell_type": "code",
   "execution_count": null,
   "metadata": {},
   "outputs": [],
   "source": []
  }
 ],
 "metadata": {
  "kernelspec": {
   "display_name": "Python 3",
   "language": "python",
   "name": "python3"
  },
  "language_info": {
   "codemirror_mode": {
    "name": "ipython",
    "version": 3
   },
   "file_extension": ".py",
   "mimetype": "text/x-python",
   "name": "python",
   "nbconvert_exporter": "python",
   "pygments_lexer": "ipython3",
   "version": "3.7.3"
  }
 },
 "nbformat": 4,
 "nbformat_minor": 2
}
